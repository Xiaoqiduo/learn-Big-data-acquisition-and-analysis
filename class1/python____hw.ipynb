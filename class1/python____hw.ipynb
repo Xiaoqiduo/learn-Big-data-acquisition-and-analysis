{
 "cells": [
  {
   "cell_type": "markdown",
   "metadata": {},
   "source": [
    "# Python入门练习"
   ]
  },
  {
   "cell_type": "markdown",
   "metadata": {},
   "source": [
    "## 题目1：有四个数字：1、2、3、4，能组成多少个互不相同且无重复数字的三位数？各是多少？     \n",
    "\n",
    "程序分析：可填在百位、十位、个位的数字都是1、2、3、4。组成所有的排列后再去 掉不满足条件的排列。"
   ]
  },
  {
   "cell_type": "code",
   "execution_count": 4,
   "metadata": {},
   "outputs": [
    {
     "name": "stdout",
     "output_type": "stream",
     "text": [
      "123 124 132 134 142 143 213 214 231 234 241 243 312 314 321 324 341 342 412 413 421 423 431 432 \n",
      "共计24个结果\n"
     ]
    }
   ],
   "source": [
    "#请写入程序源代码\n",
    "list = [1, 2, 3, 4]\n",
    "count = 0\n",
    "for a in list:\n",
    "    for b in list:\n",
    "        # print(a)\n",
    "        for c in list:\n",
    "            if (a != b) and (a != c) and (b != c):\n",
    "                count += 1\n",
    "                print(a, end=\"\")\n",
    "                print(b, end=\"\")\n",
    "                print(c, end=\" \")\n",
    "\n",
    "print(\"\")\n",
    "print(\"共计%d个结果\" % count)\n"
   ]
  },
  {
   "cell_type": "markdown",
   "metadata": {},
   "source": [
    "## 题目2：找到数字个数是1的编号，小编号在前，大编号在后，以一个空格隔开     \n",
    "\n",
    "例如：L=[1,1,4,4,7,5,5,3,6,6]\n",
    "\n",
    "输出：3 7\n"
   ]
  },
  {
   "cell_type": "code",
   "execution_count": 6,
   "metadata": {
    "jupyter": {
     "outputs_hidden": false
    }
   },
   "outputs": [
    {
     "name": "stdout",
     "output_type": "stream",
     "text": [
      "3 7 "
     ]
    }
   ],
   "source": [
    "#请写入程序源代码\n",
    "L = [1, 1, 4, 4, 7, 5, 5, 3, 6, 6]\n",
    "L.sort()\n",
    "for i in L:\n",
    "    if(L.count(i)==1):\n",
    "        print(i, end=\" \")\n",
    "    \n",
    "        "
   ]
  },
  {
   "cell_type": "markdown",
   "metadata": {},
   "source": [
    "## 题目3： 给定用户名列表，输入开头几位字母，程序自动补充用户名\n",
    "\n",
    "例如：name = ['Adam','Alex','Amy','Bob','Boom','Candy','Chris','David','Jason','Jasonstatham','Bill'];\n",
    "\n",
    "输入字母“A”\n",
    "\n",
    "则输出：['Adam', 'Alex', 'Amy']"
   ]
  },
  {
   "cell_type": "code",
   "execution_count": 10,
   "metadata": {
    "jupyter": {
     "outputs_hidden": false
    }
   },
   "outputs": [
    {
     "name": "stdout",
     "output_type": "stream",
     "text": [
      "please input name : Ad\n",
      "['Adam']\n"
     ]
    }
   ],
   "source": [
    "name = ['Adam','Alex','Amy','Bob','Boom','Candy','Chris','David','Jason','Jasonstatham','Bill'];\n",
    "i_name = input('please input name : ')\n",
    "\n",
    "#请写入程序源代码\n",
    "res = []\n",
    "l = len(i_name)\n",
    "for i in name:\n",
    "    if i_name == i[0:l]:\n",
    "        res.append(i)\n",
    "print(res)\n"
   ]
  },
  {
   "cell_type": "markdown",
   "metadata": {},
   "source": [
    "## 题目4： 计算倒计时，现在距离2021元旦距离现在还有多少天"
   ]
  },
  {
   "cell_type": "code",
   "execution_count": 5,
   "metadata": {
    "jupyter": {
     "outputs_hidden": false
    }
   },
   "outputs": [
    {
     "name": "stdout",
     "output_type": "stream",
     "text": [
      "30\n"
     ]
    }
   ],
   "source": [
    "#请写入程序源代码\n",
    "from datetime import datetime\n",
    "#构造一个将来的时间\n",
    "future = datetime.strptime('2022-01-01','%Y-%m-%d')\n",
    "#当前时间\n",
    "now = datetime.now()\n",
    "#求时间差\n",
    "delta = future - now\n",
    "print(delta.days)"
   ]
  }
 ],
 "metadata": {
  "kernelspec": {
   "display_name": "Python 3",
   "language": "python",
   "name": "python3"
  },
  "language_info": {
   "codemirror_mode": {
    "name": "ipython",
    "version": 3
   },
   "file_extension": ".py",
   "mimetype": "text/x-python",
   "name": "python",
   "nbconvert_exporter": "python",
   "pygments_lexer": "ipython3",
   "version": "3.6.8"
  }
 },
 "nbformat": 4,
 "nbformat_minor": 4
}
