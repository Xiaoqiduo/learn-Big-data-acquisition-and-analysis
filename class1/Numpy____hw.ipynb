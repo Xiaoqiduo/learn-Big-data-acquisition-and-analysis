{
 "cells": [
  {
   "cell_type": "markdown",
   "metadata": {},
   "source": [
    "# Numpy入门作业"
   ]
  },
  {
   "cell_type": "code",
   "execution_count": null,
   "metadata": {},
   "outputs": [],
   "source": [
    "import numpy as np"
   ]
  },
  {
   "cell_type": "markdown",
   "metadata": {},
   "source": [
    "### 作业1：\n",
    "\n",
    "1. 生成一个3行5列的数组，元素值从1到15排列  \n",
    "2. 取出其中的第1行，第3列元素  \n",
    "3. 取出其中的第2行到最后一行  \n",
    "4. 取出其中的第1行到第2行，第1列到最后一列  \n",
    "5. 取出其中的第0行和第2行，第三列  "
   ]
  },
  {
   "cell_type": "code",
   "execution_count": 17,
   "metadata": {
    "jupyter": {
     "outputs_hidden": false
    }
   },
   "outputs": [
    {
     "name": "stdout",
     "output_type": "stream",
     "text": [
      "[[ 1  2  3  4  5]\n",
      " [ 6  7  8  9 10]\n",
      " [11 12 13 14 15]]\n",
      "9\n",
      "[[11 12 13 14 15]]\n",
      "[[ 7  8  9 10]\n",
      " [12 13 14 15]]\n",
      "[ 4 14]\n",
      "[ 4 14]\n"
     ]
    }
   ],
   "source": [
    "# 作业1代码\n",
    "import numpy as np\n",
    "x = np.arange(1, 16)\n",
    "y = x.reshape(3, 5)\n",
    "# 1\n",
    "print(y)\n",
    "# 2\n",
    "print(y[1][3])\n",
    "# 3\n",
    "print(y[2:])\n",
    "# 4\n",
    "print(y[1:3, 1:])\n",
    "# 5\n",
    "# print(y[0:3:2, 3])\n",
    "print(y[[0,2],3])"
   ]
  },
  {
   "cell_type": "markdown",
   "metadata": {},
   "source": [
    "## 作业2：  \n",
    "\n",
    "给出一组学生姓名，和他们对应的成绩，存储在下方数组中。请计算以下问题：  \n",
    "找出不及格的学生姓名（提示：使用布尔型索引）  \n",
    "找出最高分、最低分，平均分数  \n",
    "将数值成绩转化成字母成绩，大于等于90分为A， 70-89分为B，小于70分为C  "
   ]
  },
  {
   "cell_type": "code",
   "execution_count": 5,
   "metadata": {},
   "outputs": [],
   "source": [
    "names = np.array([\"Xiao Ming\",\"Xiao Zhang\",\"Xiao Gang\",\"Xiao Hong\",\"Xiao Pang\",\"Xiao Wu\",\"Xiao Dai\",\n",
    "                  \"Xiao Qian\",\"Xiao Fan\",\"Xiao Wang\"])\n",
    "scores = np.array([ 91,  68,  84,  55,  95,  81,  67,  82,  86,  78])"
   ]
  },
  {
   "cell_type": "code",
   "execution_count": 32,
   "metadata": {},
   "outputs": [
    {
     "name": "stdout",
     "output_type": "stream",
     "text": [
      "['Xiao Hong']\n",
      "95\n",
      "55\n",
      "78.7\n",
      "['A' 'C' 'B' 'C' 'A' 'B' 'C' 'B' 'B' 'B']\n"
     ]
    }
   ],
   "source": [
    "# 作业2代码\n",
    "import numpy as np\n",
    "# 1\n",
    "flag = scores[:] < 60\n",
    "print(names[flag])\n",
    "# 2\n",
    "print(np.amax(scores))\n",
    "print(np.amin(scores))\n",
    "print(np.mean(scores))\n",
    "# 3\n",
    "x = np.where(scores < 70, 'C', np.where(scores > 90, 'A', 'B'))\n",
    "print(x)"
   ]
  }
 ],
 "metadata": {
  "anaconda-cloud": {},
  "kernelspec": {
   "display_name": "Python 3",
   "language": "python",
   "name": "python3"
  },
  "language_info": {
   "codemirror_mode": {
    "name": "ipython",
    "version": 3
   },
   "file_extension": ".py",
   "mimetype": "text/x-python",
   "name": "python",
   "nbconvert_exporter": "python",
   "pygments_lexer": "ipython3",
   "version": "3.6.8"
  }
 },
 "nbformat": 4,
 "nbformat_minor": 4
}
